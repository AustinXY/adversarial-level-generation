{
 "cells": [
  {
   "cell_type": "code",
   "execution_count": null,
   "metadata": {},
   "outputs": [],
   "source": [
    "import gym\n",
    "from stable_baselines3 import PPO\n",
    "from envs import ALGEnv, ALGDemoWrapper\n",
    "# from envs.render_utils import room_to_rgb\n",
    "from stable_baselines3.common.vec_env import DummyVecEnv, SubprocVecEnv\n",
    "from stable_baselines3.common.utils import set_random_seed\n",
    "import os\n",
    "from IPython.display import Image, display\n",
    "import numpy as np\n",
    "# from demo_utils import initiate_map"
   ]
  },
  {
   "cell_type": "code",
   "execution_count": null,
   "metadata": {},
   "outputs": [],
   "source": [
    "num_boxes = 1\n",
    "dim_room = (7, 7)\n",
    "train_mode = 'mlp'\n",
    "alg_path = '../demo_checkpoints/alg_v1b_v'\n",
    "agent_lb_path = '../demo_checkpoints/agent_v1b_1'\n",
    "agent_ub_path = '../demo_checkpoints/agent_v1b_0'"
   ]
  },
  {
   "cell_type": "code",
   "execution_count": null,
   "metadata": {},
   "outputs": [],
   "source": [
    "alg_version = 0\n",
    "alg_env = ALGEnv(dim_room=dim_room, num_boxes=num_boxes, train_mode=train_mode,\n",
    "                 alg_version=alg_version, agent_lb_path=agent_lb_path, agent_ub_path=agent_ub_path)\n",
    "alg_demo = ALGDemoWrapper(alg_env, alg_path=alg_path, alg_version=alg_version)"
   ]
  },
  {
   "cell_type": "code",
   "execution_count": null,
   "metadata": {},
   "outputs": [],
   "source": [
    "if alg_demo.generate_episode_gif():\n",
    "    display(Image(filename='temp/alg_episode_v{}.gif'.format(alg_version), width=200, height=200))"
   ]
  },
  {
   "cell_type": "code",
   "execution_count": null,
   "metadata": {},
   "outputs": [],
   "source": [
    "alg_version = 1"
   ]
  }
 ],
 "metadata": {
  "kernelspec": {
   "display_name": "Python 3",
   "language": "python",
   "name": "python3"
  },
  "language_info": {
   "codemirror_mode": {
    "name": "ipython",
    "version": 3
   },
   "file_extension": ".py",
   "mimetype": "text/x-python",
   "name": "python",
   "nbconvert_exporter": "python",
   "pygments_lexer": "ipython3",
   "version": "3.6.8"
  }
 },
 "nbformat": 4,
 "nbformat_minor": 4
}
