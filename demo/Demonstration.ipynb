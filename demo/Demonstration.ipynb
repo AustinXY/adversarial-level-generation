{
 "cells": [
  {
   "cell_type": "code",
   "execution_count": null,
   "metadata": {},
   "outputs": [],
   "source": [
    "import gym\n",
    "from stable_baselines3 import PPO\n",
    "from envs import ALGEnv, ALGDemoWrapper, AgentDemoWrapper, SokobanEnv\n",
    "from stable_baselines3.common.vec_env import DummyVecEnv, SubprocVecEnv\n",
    "from stable_baselines3.common.utils import set_random_seed\n",
    "import os\n",
    "from IPython.display import Image, display\n",
    "import numpy as np\n",
    "from demo_utils import evaluate_agents"
   ]
  },
  {
   "cell_type": "markdown",
   "metadata": {},
   "source": [
    "# 1. Initiations"
   ]
  },
  {
   "cell_type": "code",
   "execution_count": null,
   "metadata": {},
   "outputs": [],
   "source": [
    "num_boxes = 1\n",
    "dim_room = (7, 7)\n",
    "train_mode = 'mlp'\n",
    "alg_path = '../demo_checkpoints/alg_v1b_v'\n",
    "agent_lb_path = '../demo_checkpoints/agent_v1b_0'\n",
    "agent_ub_path = '../demo_checkpoints/agent_v1b_1'\n",
    "\n",
    "# setting probability of randomly placing spcific tiles\n",
    "init_box_target_prob = 0.5\n",
    "init_box_prob = 0.5\n",
    "init_player_prob = 0.5\n",
    "init_probs = [init_box_target_prob, init_box_prob, init_player_prob]\n",
    "soko_env = SokobanEnv(dim_room=dim_room, max_steps=50, num_boxes=num_boxes, train_mode=train_mode, log_train_info=False)\n",
    "agent_demo_lb = AgentDemoWrapper(soko_env, agent_path=agent_lb_path)\n",
    "agent_demo_ub = AgentDemoWrapper(soko_env, agent_path=agent_ub_path)"
   ]
  },
  {
   "cell_type": "markdown",
   "metadata": {},
   "source": [
    "# 2. Generate sample levels\n",
    "Generate sample levels with three versions of generators<br>\n",
    "v0: generated levels will be basic playable (player can reach all the box and box target tiles, and boxes are not stuck in corners, which will be unpushable)<br>\n",
    "<span style=\"color:red\">can't ensure solvability</span><br>\n",
    "v1: generated levels will be solvable by upper bound agent<br>\n",
    "<span style=\"color:red\">ensures solvability, but can't ensure difficulty</span><br>\n",
    "v2: generated levels will be solvable by upper bound agent but not by lower bound agent<br>\n",
    "<span style=\"color:red\">ensures solvability, ensures difficulty</span><br>"
   ]
  },
  {
   "cell_type": "markdown",
   "metadata": {},
   "source": [
    "### v0 generation and agents solving attempts"
   ]
  },
  {
   "cell_type": "code",
   "execution_count": null,
   "metadata": {},
   "outputs": [],
   "source": [
    "alg_version = 0\n",
    "alg_env = ALGEnv(dim_room=dim_room, num_boxes=num_boxes, train_mode=train_mode,\n",
    "                 alg_version=alg_version, agent_lb_path=agent_lb_path, agent_ub_path=agent_ub_path, init_probs=init_probs)\n",
    "alg_demo = ALGDemoWrapper(alg_env, alg_path=alg_path, alg_version=alg_version)\n",
    "succeeded, generated_map = alg_demo.generate_episode_gif()\n",
    "if succeeded:\n",
    "    display(Image(filename='temp/alg_episode_v{}.gif'.format(alg_version), width=200, height=200))"
   ]
  },
  {
   "cell_type": "code",
   "execution_count": null,
   "metadata": {},
   "outputs": [],
   "source": [
    "agent_demo_ub.generate_episode_gif(generated_map)\n",
    "display(Image(filename='temp/agent_episode.gif'.format(alg_version), width=200, height=200))\n",
    "agent_demo_lb.generate_episode_gif(generated_map)\n",
    "display(Image(filename='temp/agent_episode.gif'.format(alg_version), width=200, height=200))"
   ]
  },
  {
   "cell_type": "markdown",
   "metadata": {},
   "source": [
    "### v1 generation and agents solving attempts"
   ]
  },
  {
   "cell_type": "code",
   "execution_count": null,
   "metadata": {},
   "outputs": [],
   "source": [
    "alg_version = 1\n",
    "alg_env = ALGEnv(dim_room=dim_room, num_boxes=num_boxes, train_mode=train_mode,\n",
    "                 alg_version=alg_version, agent_lb_path=agent_lb_path, agent_ub_path=agent_ub_path, init_probs=init_probs)\n",
    "alg_demo = ALGDemoWrapper(alg_env, alg_path=alg_path, alg_version=alg_version)\n",
    "succeeded, generated_map = alg_demo.generate_episode_gif()\n",
    "if succeeded:\n",
    "    display(Image(filename='temp/alg_episode_v{}.gif'.format(alg_version), width=200, height=200))"
   ]
  },
  {
   "cell_type": "code",
   "execution_count": null,
   "metadata": {},
   "outputs": [],
   "source": [
    "agent_demo_ub.generate_episode_gif(generated_map)\n",
    "display(Image(filename='temp/agent_episode.gif'.format(alg_version), width=200, height=200))\n",
    "agent_demo_lb.generate_episode_gif(generated_map)\n",
    "display(Image(filename='temp/agent_episode.gif'.format(alg_version), width=200, height=200))"
   ]
  },
  {
   "cell_type": "markdown",
   "metadata": {},
   "source": [
    "### v2 generation and agents solving attempts"
   ]
  },
  {
   "cell_type": "code",
   "execution_count": null,
   "metadata": {},
   "outputs": [],
   "source": [
    "alg_version = 2\n",
    "alg_env = ALGEnv(dim_room=dim_room, num_boxes=num_boxes, train_mode=train_mode,\n",
    "                 alg_version=alg_version, agent_lb_path=agent_lb_path, agent_ub_path=agent_ub_path, init_probs=init_probs)\n",
    "alg_demo = ALGDemoWrapper(alg_env, alg_path=alg_path, alg_version=alg_version)\n",
    "succeeded, generated_map = alg_demo.generate_episode_gif()\n",
    "if succeeded:\n",
    "    display(Image(filename='temp/alg_episode_v{}.gif'.format(alg_version), width=200, height=200))"
   ]
  },
  {
   "cell_type": "code",
   "execution_count": null,
   "metadata": {},
   "outputs": [],
   "source": [
    "agent_demo_ub.generate_episode_gif(generated_map)\n",
    "display(Image(filename='temp/agent_episode.gif'.format(alg_version), width=200, height=200))\n",
    "agent_demo_lb.generate_episode_gif(generated_map)\n",
    "display(Image(filename='temp/agent_episode.gif'.format(alg_version), width=200, height=200))"
   ]
  },
  {
   "cell_type": "markdown",
   "metadata": {},
   "source": [
    "# 3. Evaluate agents\n",
    "Compute the number of levels each agent can solve and the number of levels each agent can uniquely solve (only that agent can solve)"
   ]
  },
  {
   "cell_type": "code",
   "execution_count": null,
   "metadata": {},
   "outputs": [],
   "source": [
    "evaluate_agents(version_li=['1b_0', '1b_1'], num_tests=1000, load_dir='../demo_checkpoints')"
   ]
  },
  {
   "cell_type": "markdown",
   "metadata": {},
   "source": [
    "# 4. Evaluate different versions of ALGs\n",
    "Compute the success generation rate of each version of ALG checkpoints"
   ]
  },
  {
   "cell_type": "code",
   "execution_count": null,
   "metadata": {},
   "outputs": [],
   "source": [
    "evaluate_agents(version_li=['1b_0', '1b_1'], num_tests=1000, load_dir='../demo_checkpoints', alg_path=alg_path, alg_version=0)"
   ]
  },
  {
   "cell_type": "code",
   "execution_count": null,
   "metadata": {},
   "outputs": [],
   "source": [
    "evaluate_agents(version_li=['1b_0', '1b_1'], num_tests=1000, load_dir='../demo_checkpoints', alg_path=alg_path, alg_version=1)"
   ]
  },
  {
   "cell_type": "code",
   "execution_count": null,
   "metadata": {},
   "outputs": [],
   "source": [
    "evaluate_agents(version_li=['1b_0', '1b_1'], num_tests=1000, load_dir='../demo_checkpoints', alg_path=alg_path, alg_version=2)"
   ]
  },
  {
   "cell_type": "code",
   "execution_count": null,
   "metadata": {},
   "outputs": [],
   "source": []
  }
 ],
 "metadata": {
  "kernelspec": {
   "display_name": "Python 3",
   "language": "python",
   "name": "python3"
  },
  "language_info": {
   "codemirror_mode": {
    "name": "ipython",
    "version": 3
   },
   "file_extension": ".py",
   "mimetype": "text/x-python",
   "name": "python",
   "nbconvert_exporter": "python",
   "pygments_lexer": "ipython3",
   "version": "3.6.8"
  }
 },
 "nbformat": 4,
 "nbformat_minor": 4
}
